{
 "cells": [
  {
   "cell_type": "code",
   "execution_count": 1,
   "metadata": {},
   "outputs": [],
   "source": [
    "import pandas as pd\n",
    "import numpy as np\n",
    "import seaborn as sns\n",
    "import matplotlib.pyplot as plt\n",
    "import configparser\n",
    "import datetime\n",
    "import talib\n",
    "from datetime import datetime, timedelta"
   ]
  },
  {
   "cell_type": "code",
   "execution_count": 2,
   "metadata": {},
   "outputs": [],
   "source": [
    "# データ読み込み #\n",
    "df = pd.read_csv('usdjpy_d1010.csv')"
   ]
  },
  {
   "cell_type": "code",
   "execution_count": 3,
   "metadata": {},
   "outputs": [],
   "source": [
    "df['Date']=pd.to_datetime(df['Date'])"
   ]
  },
  {
   "cell_type": "code",
   "execution_count": 4,
   "metadata": {},
   "outputs": [],
   "source": [
    "df['SMA20']=talib.SMA(df['Close'],timeperiod=20)\n",
    "df['RSI']=talib.RSI(df['Close'],timeperiod=14)"
   ]
  },
  {
   "cell_type": "code",
   "execution_count": 5,
   "metadata": {},
   "outputs": [],
   "source": [
    "df.drop(range(0,19),inplace=True)"
   ]
  },
  {
   "cell_type": "code",
   "execution_count": 6,
   "metadata": {},
   "outputs": [
    {
     "data": {
      "text/html": [
       "<div>\n",
       "<style scoped>\n",
       "    .dataframe tbody tr th:only-of-type {\n",
       "        vertical-align: middle;\n",
       "    }\n",
       "\n",
       "    .dataframe tbody tr th {\n",
       "        vertical-align: top;\n",
       "    }\n",
       "\n",
       "    .dataframe thead th {\n",
       "        text-align: right;\n",
       "    }\n",
       "</style>\n",
       "<table border=\"1\" class=\"dataframe\">\n",
       "  <thead>\n",
       "    <tr style=\"text-align: right;\">\n",
       "      <th></th>\n",
       "      <th>Date</th>\n",
       "      <th>Open</th>\n",
       "      <th>High</th>\n",
       "      <th>Low</th>\n",
       "      <th>Close</th>\n",
       "      <th>SMA20</th>\n",
       "      <th>RSI</th>\n",
       "    </tr>\n",
       "  </thead>\n",
       "  <tbody>\n",
       "    <tr>\n",
       "      <td>19</td>\n",
       "      <td>2017-01-31</td>\n",
       "      <td>113.739</td>\n",
       "      <td>113.962</td>\n",
       "      <td>112.087</td>\n",
       "      <td>112.674</td>\n",
       "      <td>114.64640</td>\n",
       "      <td>36.726650</td>\n",
       "    </tr>\n",
       "    <tr>\n",
       "      <td>20</td>\n",
       "      <td>2017-02-01</td>\n",
       "      <td>112.674</td>\n",
       "      <td>113.954</td>\n",
       "      <td>112.657</td>\n",
       "      <td>113.287</td>\n",
       "      <td>114.44710</td>\n",
       "      <td>39.640498</td>\n",
       "    </tr>\n",
       "    <tr>\n",
       "      <td>21</td>\n",
       "      <td>2017-02-02</td>\n",
       "      <td>113.287</td>\n",
       "      <td>113.363</td>\n",
       "      <td>112.060</td>\n",
       "      <td>112.864</td>\n",
       "      <td>114.31805</td>\n",
       "      <td>38.328794</td>\n",
       "    </tr>\n",
       "    <tr>\n",
       "      <td>22</td>\n",
       "      <td>2017-02-03</td>\n",
       "      <td>112.866</td>\n",
       "      <td>113.454</td>\n",
       "      <td>112.326</td>\n",
       "      <td>112.694</td>\n",
       "      <td>114.10295</td>\n",
       "      <td>37.787617</td>\n",
       "    </tr>\n",
       "    <tr>\n",
       "      <td>23</td>\n",
       "      <td>2017-02-06</td>\n",
       "      <td>112.561</td>\n",
       "      <td>112.772</td>\n",
       "      <td>111.629</td>\n",
       "      <td>111.817</td>\n",
       "      <td>113.89810</td>\n",
       "      <td>35.039076</td>\n",
       "    </tr>\n",
       "    <tr>\n",
       "      <td>24</td>\n",
       "      <td>2017-02-07</td>\n",
       "      <td>111.803</td>\n",
       "      <td>112.511</td>\n",
       "      <td>111.604</td>\n",
       "      <td>112.315</td>\n",
       "      <td>113.72220</td>\n",
       "      <td>37.805503</td>\n",
       "    </tr>\n",
       "    <tr>\n",
       "      <td>25</td>\n",
       "      <td>2017-02-08</td>\n",
       "      <td>112.315</td>\n",
       "      <td>112.545</td>\n",
       "      <td>111.643</td>\n",
       "      <td>111.845</td>\n",
       "      <td>113.54395</td>\n",
       "      <td>36.237044</td>\n",
       "    </tr>\n",
       "    <tr>\n",
       "      <td>26</td>\n",
       "      <td>2017-02-09</td>\n",
       "      <td>111.847</td>\n",
       "      <td>113.351</td>\n",
       "      <td>111.843</td>\n",
       "      <td>113.315</td>\n",
       "      <td>113.47520</td>\n",
       "      <td>44.054845</td>\n",
       "    </tr>\n",
       "    <tr>\n",
       "      <td>27</td>\n",
       "      <td>2017-02-10</td>\n",
       "      <td>113.314</td>\n",
       "      <td>113.857</td>\n",
       "      <td>112.861</td>\n",
       "      <td>113.357</td>\n",
       "      <td>113.41550</td>\n",
       "      <td>44.265106</td>\n",
       "    </tr>\n",
       "    <tr>\n",
       "      <td>28</td>\n",
       "      <td>2017-02-13</td>\n",
       "      <td>113.646</td>\n",
       "      <td>114.169</td>\n",
       "      <td>113.455</td>\n",
       "      <td>113.765</td>\n",
       "      <td>113.39955</td>\n",
       "      <td>46.373597</td>\n",
       "    </tr>\n",
       "  </tbody>\n",
       "</table>\n",
       "</div>"
      ],
      "text/plain": [
       "         Date     Open     High      Low    Close      SMA20        RSI\n",
       "19 2017-01-31  113.739  113.962  112.087  112.674  114.64640  36.726650\n",
       "20 2017-02-01  112.674  113.954  112.657  113.287  114.44710  39.640498\n",
       "21 2017-02-02  113.287  113.363  112.060  112.864  114.31805  38.328794\n",
       "22 2017-02-03  112.866  113.454  112.326  112.694  114.10295  37.787617\n",
       "23 2017-02-06  112.561  112.772  111.629  111.817  113.89810  35.039076\n",
       "24 2017-02-07  111.803  112.511  111.604  112.315  113.72220  37.805503\n",
       "25 2017-02-08  112.315  112.545  111.643  111.845  113.54395  36.237044\n",
       "26 2017-02-09  111.847  113.351  111.843  113.315  113.47520  44.054845\n",
       "27 2017-02-10  113.314  113.857  112.861  113.357  113.41550  44.265106\n",
       "28 2017-02-13  113.646  114.169  113.455  113.765  113.39955  46.373597"
      ]
     },
     "execution_count": 6,
     "metadata": {},
     "output_type": "execute_result"
    }
   ],
   "source": [
    "df.head(10)"
   ]
  },
  {
   "cell_type": "code",
   "execution_count": 7,
   "metadata": {},
   "outputs": [
    {
     "data": {
      "text/plain": [
       "(698, 7)"
      ]
     },
     "execution_count": 7,
     "metadata": {},
     "output_type": "execute_result"
    }
   ],
   "source": [
    "df.shape"
   ]
  },
  {
   "cell_type": "code",
   "execution_count": 8,
   "metadata": {},
   "outputs": [
    {
     "data": {
      "text/plain": [
       "Index(['Date', 'Open', 'High', 'Low', 'Close', 'SMA20', 'RSI'], dtype='object')"
      ]
     },
     "execution_count": 8,
     "metadata": {},
     "output_type": "execute_result"
    }
   ],
   "source": [
    "df.columns"
   ]
  },
  {
   "cell_type": "code",
   "execution_count": 9,
   "metadata": {
    "scrolled": true
   },
   "outputs": [
    {
     "data": {
      "text/html": [
       "<div>\n",
       "<style scoped>\n",
       "    .dataframe tbody tr th:only-of-type {\n",
       "        vertical-align: middle;\n",
       "    }\n",
       "\n",
       "    .dataframe tbody tr th {\n",
       "        vertical-align: top;\n",
       "    }\n",
       "\n",
       "    .dataframe thead th {\n",
       "        text-align: right;\n",
       "    }\n",
       "</style>\n",
       "<table border=\"1\" class=\"dataframe\">\n",
       "  <thead>\n",
       "    <tr style=\"text-align: right;\">\n",
       "      <th></th>\n",
       "      <th>Date</th>\n",
       "      <th>Open</th>\n",
       "      <th>High</th>\n",
       "      <th>Low</th>\n",
       "      <th>Close</th>\n",
       "      <th>SMA20</th>\n",
       "      <th>RSI</th>\n",
       "    </tr>\n",
       "  </thead>\n",
       "  <tbody>\n",
       "    <tr>\n",
       "      <td>707</td>\n",
       "      <td>2019-09-27</td>\n",
       "      <td>107.838</td>\n",
       "      <td>108.181</td>\n",
       "      <td>107.659</td>\n",
       "      <td>107.960</td>\n",
       "      <td>107.47885</td>\n",
       "      <td>57.272176</td>\n",
       "    </tr>\n",
       "    <tr>\n",
       "      <td>708</td>\n",
       "      <td>2019-09-30</td>\n",
       "      <td>107.987</td>\n",
       "      <td>108.179</td>\n",
       "      <td>107.746</td>\n",
       "      <td>108.079</td>\n",
       "      <td>107.57305</td>\n",
       "      <td>58.540443</td>\n",
       "    </tr>\n",
       "    <tr>\n",
       "      <td>709</td>\n",
       "      <td>2019-10-01</td>\n",
       "      <td>108.079</td>\n",
       "      <td>108.464</td>\n",
       "      <td>107.629</td>\n",
       "      <td>107.762</td>\n",
       "      <td>107.66440</td>\n",
       "      <td>53.946746</td>\n",
       "    </tr>\n",
       "    <tr>\n",
       "      <td>710</td>\n",
       "      <td>2019-10-02</td>\n",
       "      <td>107.763</td>\n",
       "      <td>107.893</td>\n",
       "      <td>107.058</td>\n",
       "      <td>107.165</td>\n",
       "      <td>107.70430</td>\n",
       "      <td>46.539926</td>\n",
       "    </tr>\n",
       "    <tr>\n",
       "      <td>711</td>\n",
       "      <td>2019-10-03</td>\n",
       "      <td>107.160</td>\n",
       "      <td>107.299</td>\n",
       "      <td>106.503</td>\n",
       "      <td>106.874</td>\n",
       "      <td>107.70025</td>\n",
       "      <td>43.411173</td>\n",
       "    </tr>\n",
       "    <tr>\n",
       "      <td>712</td>\n",
       "      <td>2019-10-04</td>\n",
       "      <td>106.878</td>\n",
       "      <td>107.126</td>\n",
       "      <td>106.585</td>\n",
       "      <td>106.847</td>\n",
       "      <td>107.69615</td>\n",
       "      <td>43.121508</td>\n",
       "    </tr>\n",
       "    <tr>\n",
       "      <td>713</td>\n",
       "      <td>2019-10-07</td>\n",
       "      <td>106.676</td>\n",
       "      <td>107.457</td>\n",
       "      <td>106.676</td>\n",
       "      <td>107.236</td>\n",
       "      <td>107.69555</td>\n",
       "      <td>48.457661</td>\n",
       "    </tr>\n",
       "    <tr>\n",
       "      <td>714</td>\n",
       "      <td>2019-10-08</td>\n",
       "      <td>107.234</td>\n",
       "      <td>107.441</td>\n",
       "      <td>106.815</td>\n",
       "      <td>107.072</td>\n",
       "      <td>107.67315</td>\n",
       "      <td>46.477931</td>\n",
       "    </tr>\n",
       "    <tr>\n",
       "      <td>715</td>\n",
       "      <td>2019-10-09</td>\n",
       "      <td>107.073</td>\n",
       "      <td>107.626</td>\n",
       "      <td>106.935</td>\n",
       "      <td>107.466</td>\n",
       "      <td>107.65565</td>\n",
       "      <td>51.594461</td>\n",
       "    </tr>\n",
       "    <tr>\n",
       "      <td>716</td>\n",
       "      <td>2019-10-10</td>\n",
       "      <td>107.463</td>\n",
       "      <td>108.016</td>\n",
       "      <td>107.038</td>\n",
       "      <td>107.868</td>\n",
       "      <td>107.64460</td>\n",
       "      <td>56.195692</td>\n",
       "    </tr>\n",
       "  </tbody>\n",
       "</table>\n",
       "</div>"
      ],
      "text/plain": [
       "          Date     Open     High      Low    Close      SMA20        RSI\n",
       "707 2019-09-27  107.838  108.181  107.659  107.960  107.47885  57.272176\n",
       "708 2019-09-30  107.987  108.179  107.746  108.079  107.57305  58.540443\n",
       "709 2019-10-01  108.079  108.464  107.629  107.762  107.66440  53.946746\n",
       "710 2019-10-02  107.763  107.893  107.058  107.165  107.70430  46.539926\n",
       "711 2019-10-03  107.160  107.299  106.503  106.874  107.70025  43.411173\n",
       "712 2019-10-04  106.878  107.126  106.585  106.847  107.69615  43.121508\n",
       "713 2019-10-07  106.676  107.457  106.676  107.236  107.69555  48.457661\n",
       "714 2019-10-08  107.234  107.441  106.815  107.072  107.67315  46.477931\n",
       "715 2019-10-09  107.073  107.626  106.935  107.466  107.65565  51.594461\n",
       "716 2019-10-10  107.463  108.016  107.038  107.868  107.64460  56.195692"
      ]
     },
     "execution_count": 9,
     "metadata": {},
     "output_type": "execute_result"
    }
   ],
   "source": [
    "df.tail(10)"
   ]
  },
  {
   "cell_type": "code",
   "execution_count": 10,
   "metadata": {},
   "outputs": [],
   "source": [
    "# トレーニングデータと予測用データに分ける（train：、test：10）\n",
    "# テストデータの最初の10件（latest）を使って残りの10件の予測をする\n",
    "split_date = '2019-09-27'\n",
    "train,latest= df[df['Date']<split_date],df[df['Date']>=split_date]"
   ]
  },
  {
   "cell_type": "code",
   "execution_count": 11,
   "metadata": {},
   "outputs": [
    {
     "data": {
      "text/html": [
       "<div>\n",
       "<style scoped>\n",
       "    .dataframe tbody tr th:only-of-type {\n",
       "        vertical-align: middle;\n",
       "    }\n",
       "\n",
       "    .dataframe tbody tr th {\n",
       "        vertical-align: top;\n",
       "    }\n",
       "\n",
       "    .dataframe thead th {\n",
       "        text-align: right;\n",
       "    }\n",
       "</style>\n",
       "<table border=\"1\" class=\"dataframe\">\n",
       "  <thead>\n",
       "    <tr style=\"text-align: right;\">\n",
       "      <th></th>\n",
       "      <th>Date</th>\n",
       "      <th>Open</th>\n",
       "      <th>High</th>\n",
       "      <th>Low</th>\n",
       "      <th>Close</th>\n",
       "      <th>SMA20</th>\n",
       "      <th>RSI</th>\n",
       "    </tr>\n",
       "  </thead>\n",
       "  <tbody>\n",
       "    <tr>\n",
       "      <td>707</td>\n",
       "      <td>2019-09-27</td>\n",
       "      <td>107.838</td>\n",
       "      <td>108.181</td>\n",
       "      <td>107.659</td>\n",
       "      <td>107.960</td>\n",
       "      <td>107.47885</td>\n",
       "      <td>57.272176</td>\n",
       "    </tr>\n",
       "    <tr>\n",
       "      <td>708</td>\n",
       "      <td>2019-09-30</td>\n",
       "      <td>107.987</td>\n",
       "      <td>108.179</td>\n",
       "      <td>107.746</td>\n",
       "      <td>108.079</td>\n",
       "      <td>107.57305</td>\n",
       "      <td>58.540443</td>\n",
       "    </tr>\n",
       "    <tr>\n",
       "      <td>709</td>\n",
       "      <td>2019-10-01</td>\n",
       "      <td>108.079</td>\n",
       "      <td>108.464</td>\n",
       "      <td>107.629</td>\n",
       "      <td>107.762</td>\n",
       "      <td>107.66440</td>\n",
       "      <td>53.946746</td>\n",
       "    </tr>\n",
       "    <tr>\n",
       "      <td>710</td>\n",
       "      <td>2019-10-02</td>\n",
       "      <td>107.763</td>\n",
       "      <td>107.893</td>\n",
       "      <td>107.058</td>\n",
       "      <td>107.165</td>\n",
       "      <td>107.70430</td>\n",
       "      <td>46.539926</td>\n",
       "    </tr>\n",
       "    <tr>\n",
       "      <td>711</td>\n",
       "      <td>2019-10-03</td>\n",
       "      <td>107.160</td>\n",
       "      <td>107.299</td>\n",
       "      <td>106.503</td>\n",
       "      <td>106.874</td>\n",
       "      <td>107.70025</td>\n",
       "      <td>43.411173</td>\n",
       "    </tr>\n",
       "    <tr>\n",
       "      <td>712</td>\n",
       "      <td>2019-10-04</td>\n",
       "      <td>106.878</td>\n",
       "      <td>107.126</td>\n",
       "      <td>106.585</td>\n",
       "      <td>106.847</td>\n",
       "      <td>107.69615</td>\n",
       "      <td>43.121508</td>\n",
       "    </tr>\n",
       "    <tr>\n",
       "      <td>713</td>\n",
       "      <td>2019-10-07</td>\n",
       "      <td>106.676</td>\n",
       "      <td>107.457</td>\n",
       "      <td>106.676</td>\n",
       "      <td>107.236</td>\n",
       "      <td>107.69555</td>\n",
       "      <td>48.457661</td>\n",
       "    </tr>\n",
       "    <tr>\n",
       "      <td>714</td>\n",
       "      <td>2019-10-08</td>\n",
       "      <td>107.234</td>\n",
       "      <td>107.441</td>\n",
       "      <td>106.815</td>\n",
       "      <td>107.072</td>\n",
       "      <td>107.67315</td>\n",
       "      <td>46.477931</td>\n",
       "    </tr>\n",
       "    <tr>\n",
       "      <td>715</td>\n",
       "      <td>2019-10-09</td>\n",
       "      <td>107.073</td>\n",
       "      <td>107.626</td>\n",
       "      <td>106.935</td>\n",
       "      <td>107.466</td>\n",
       "      <td>107.65565</td>\n",
       "      <td>51.594461</td>\n",
       "    </tr>\n",
       "    <tr>\n",
       "      <td>716</td>\n",
       "      <td>2019-10-10</td>\n",
       "      <td>107.463</td>\n",
       "      <td>108.016</td>\n",
       "      <td>107.038</td>\n",
       "      <td>107.868</td>\n",
       "      <td>107.64460</td>\n",
       "      <td>56.195692</td>\n",
       "    </tr>\n",
       "  </tbody>\n",
       "</table>\n",
       "</div>"
      ],
      "text/plain": [
       "          Date     Open     High      Low    Close      SMA20        RSI\n",
       "707 2019-09-27  107.838  108.181  107.659  107.960  107.47885  57.272176\n",
       "708 2019-09-30  107.987  108.179  107.746  108.079  107.57305  58.540443\n",
       "709 2019-10-01  108.079  108.464  107.629  107.762  107.66440  53.946746\n",
       "710 2019-10-02  107.763  107.893  107.058  107.165  107.70430  46.539926\n",
       "711 2019-10-03  107.160  107.299  106.503  106.874  107.70025  43.411173\n",
       "712 2019-10-04  106.878  107.126  106.585  106.847  107.69615  43.121508\n",
       "713 2019-10-07  106.676  107.457  106.676  107.236  107.69555  48.457661\n",
       "714 2019-10-08  107.234  107.441  106.815  107.072  107.67315  46.477931\n",
       "715 2019-10-09  107.073  107.626  106.935  107.466  107.65565  51.594461\n",
       "716 2019-10-10  107.463  108.016  107.038  107.868  107.64460  56.195692"
      ]
     },
     "execution_count": 11,
     "metadata": {},
     "output_type": "execute_result"
    }
   ],
   "source": [
    "latest"
   ]
  },
  {
   "cell_type": "code",
   "execution_count": 12,
   "metadata": {},
   "outputs": [],
   "source": [
    "del train['Date']\n",
    "del latest['Date']"
   ]
  },
  {
   "cell_type": "code",
   "execution_count": 13,
   "metadata": {},
   "outputs": [
    {
     "data": {
      "text/plain": [
       "((688, 6), (10, 6))"
      ]
     },
     "execution_count": 13,
     "metadata": {},
     "output_type": "execute_result"
    }
   ],
   "source": [
    "train.shape, latest.shape"
   ]
  },
  {
   "cell_type": "code",
   "execution_count": 14,
   "metadata": {},
   "outputs": [],
   "source": [
    "#windowを設定\n",
    "window_len = 10\n",
    "#latest = test[:window_len]\n",
    "#length = len(test)- window_len"
   ]
  },
  {
   "cell_type": "code",
   "execution_count": 15,
   "metadata": {},
   "outputs": [
    {
     "data": {
      "text/html": [
       "<div>\n",
       "<style scoped>\n",
       "    .dataframe tbody tr th:only-of-type {\n",
       "        vertical-align: middle;\n",
       "    }\n",
       "\n",
       "    .dataframe tbody tr th {\n",
       "        vertical-align: top;\n",
       "    }\n",
       "\n",
       "    .dataframe thead th {\n",
       "        text-align: right;\n",
       "    }\n",
       "</style>\n",
       "<table border=\"1\" class=\"dataframe\">\n",
       "  <thead>\n",
       "    <tr style=\"text-align: right;\">\n",
       "      <th></th>\n",
       "      <th>Open</th>\n",
       "      <th>High</th>\n",
       "      <th>Low</th>\n",
       "      <th>Close</th>\n",
       "      <th>SMA20</th>\n",
       "      <th>RSI</th>\n",
       "    </tr>\n",
       "  </thead>\n",
       "  <tbody>\n",
       "    <tr>\n",
       "      <td>707</td>\n",
       "      <td>107.838</td>\n",
       "      <td>108.181</td>\n",
       "      <td>107.659</td>\n",
       "      <td>107.960</td>\n",
       "      <td>107.47885</td>\n",
       "      <td>57.272176</td>\n",
       "    </tr>\n",
       "    <tr>\n",
       "      <td>708</td>\n",
       "      <td>107.987</td>\n",
       "      <td>108.179</td>\n",
       "      <td>107.746</td>\n",
       "      <td>108.079</td>\n",
       "      <td>107.57305</td>\n",
       "      <td>58.540443</td>\n",
       "    </tr>\n",
       "    <tr>\n",
       "      <td>709</td>\n",
       "      <td>108.079</td>\n",
       "      <td>108.464</td>\n",
       "      <td>107.629</td>\n",
       "      <td>107.762</td>\n",
       "      <td>107.66440</td>\n",
       "      <td>53.946746</td>\n",
       "    </tr>\n",
       "    <tr>\n",
       "      <td>710</td>\n",
       "      <td>107.763</td>\n",
       "      <td>107.893</td>\n",
       "      <td>107.058</td>\n",
       "      <td>107.165</td>\n",
       "      <td>107.70430</td>\n",
       "      <td>46.539926</td>\n",
       "    </tr>\n",
       "    <tr>\n",
       "      <td>711</td>\n",
       "      <td>107.160</td>\n",
       "      <td>107.299</td>\n",
       "      <td>106.503</td>\n",
       "      <td>106.874</td>\n",
       "      <td>107.70025</td>\n",
       "      <td>43.411173</td>\n",
       "    </tr>\n",
       "    <tr>\n",
       "      <td>712</td>\n",
       "      <td>106.878</td>\n",
       "      <td>107.126</td>\n",
       "      <td>106.585</td>\n",
       "      <td>106.847</td>\n",
       "      <td>107.69615</td>\n",
       "      <td>43.121508</td>\n",
       "    </tr>\n",
       "    <tr>\n",
       "      <td>713</td>\n",
       "      <td>106.676</td>\n",
       "      <td>107.457</td>\n",
       "      <td>106.676</td>\n",
       "      <td>107.236</td>\n",
       "      <td>107.69555</td>\n",
       "      <td>48.457661</td>\n",
       "    </tr>\n",
       "    <tr>\n",
       "      <td>714</td>\n",
       "      <td>107.234</td>\n",
       "      <td>107.441</td>\n",
       "      <td>106.815</td>\n",
       "      <td>107.072</td>\n",
       "      <td>107.67315</td>\n",
       "      <td>46.477931</td>\n",
       "    </tr>\n",
       "    <tr>\n",
       "      <td>715</td>\n",
       "      <td>107.073</td>\n",
       "      <td>107.626</td>\n",
       "      <td>106.935</td>\n",
       "      <td>107.466</td>\n",
       "      <td>107.65565</td>\n",
       "      <td>51.594461</td>\n",
       "    </tr>\n",
       "    <tr>\n",
       "      <td>716</td>\n",
       "      <td>107.463</td>\n",
       "      <td>108.016</td>\n",
       "      <td>107.038</td>\n",
       "      <td>107.868</td>\n",
       "      <td>107.64460</td>\n",
       "      <td>56.195692</td>\n",
       "    </tr>\n",
       "  </tbody>\n",
       "</table>\n",
       "</div>"
      ],
      "text/plain": [
       "        Open     High      Low    Close      SMA20        RSI\n",
       "707  107.838  108.181  107.659  107.960  107.47885  57.272176\n",
       "708  107.987  108.179  107.746  108.079  107.57305  58.540443\n",
       "709  108.079  108.464  107.629  107.762  107.66440  53.946746\n",
       "710  107.763  107.893  107.058  107.165  107.70430  46.539926\n",
       "711  107.160  107.299  106.503  106.874  107.70025  43.411173\n",
       "712  106.878  107.126  106.585  106.847  107.69615  43.121508\n",
       "713  106.676  107.457  106.676  107.236  107.69555  48.457661\n",
       "714  107.234  107.441  106.815  107.072  107.67315  46.477931\n",
       "715  107.073  107.626  106.935  107.466  107.65565  51.594461\n",
       "716  107.463  108.016  107.038  107.868  107.64460  56.195692"
      ]
     },
     "execution_count": 15,
     "metadata": {},
     "output_type": "execute_result"
    }
   ],
   "source": [
    "latest"
   ]
  },
  {
   "cell_type": "code",
   "execution_count": 16,
   "metadata": {},
   "outputs": [],
   "source": [
    "# LSTMへの入力用に処理の関数\n",
    "def data_maker(data):\n",
    "  data_lstm_in=[]\n",
    "  if len(data)==window_len:\n",
    "    temp = data[:window_len].copy()\n",
    "    temp = temp / temp.iloc[0] - 1\n",
    "    data_lstm_in.append(temp)\n",
    "  for i in range(len(data) - window_len):\n",
    "      temp = data[i:(i + window_len)].copy()\n",
    "      temp = temp / temp.iloc[0] - 1\n",
    "      data_lstm_in.append(temp)\n",
    "  return data_lstm_in"
   ]
  },
  {
   "cell_type": "code",
   "execution_count": 17,
   "metadata": {},
   "outputs": [],
   "source": [
    "# LSTMへの入力用に処理（訓練）\n",
    "train_lstm_in = []\n",
    "for i in range(len(train) - window_len):\n",
    "    temp = train[i:(i + window_len)].copy()\n",
    "    for col in train:\n",
    "        temp.loc[:, col] = temp[col] / temp[col].iloc[0] - 1\n",
    "    train_lstm_in.append(temp)\n",
    "\n",
    "lstm_train_out = (train['Close'][window_len:].values / train['Close'][:-window_len].values)-1"
   ]
  },
  {
   "cell_type": "code",
   "execution_count": 18,
   "metadata": {},
   "outputs": [],
   "source": [
    "# LSTMへの入力用に処理（テスト）\n",
    "#test_lstm_in = []\n",
    "#for i in range(len(test) - window_len):\n",
    "#    temp = test[i:(i + window_len)].copy()\n",
    "#    for col in test:\n",
    "#        temp.loc[:, col] = temp[col] / temp[col].iloc[0] - 1\n",
    "#    test_lstm_in.append(temp)\n",
    "\n",
    "#lstm_test_out = (test['Close'][window_len:].values / test['Close'][:-window_len].values)-1\n",
    "\n",
    "latest_lstm_in = data_maker(latest)"
   ]
  },
  {
   "cell_type": "code",
   "execution_count": 19,
   "metadata": {},
   "outputs": [
    {
     "data": {
      "text/plain": [
       "[         Open      High       Low     Close     SMA20       RSI\n",
       " 707  0.000000  0.000000  0.000000  0.000000  0.000000  0.000000\n",
       " 708  0.001382 -0.000018  0.000808  0.001102  0.000876  0.022145\n",
       " 709  0.002235  0.002616 -0.000279 -0.001834  0.001726 -0.058064\n",
       " 710 -0.000695 -0.002662 -0.005582 -0.007364  0.002098 -0.187390\n",
       " 711 -0.006287 -0.008153 -0.010738 -0.010059  0.002060 -0.242020\n",
       " 712 -0.008902 -0.009752 -0.009976 -0.010309  0.002022 -0.247078\n",
       " 713 -0.010775 -0.006692 -0.009131 -0.006706  0.002016 -0.153906\n",
       " 714 -0.005601 -0.006840 -0.007840 -0.008225  0.001808 -0.188473\n",
       " 715 -0.007094 -0.005130 -0.006725 -0.004576  0.001645 -0.099136\n",
       " 716 -0.003477 -0.001525 -0.005768 -0.000852  0.001542 -0.018796]"
      ]
     },
     "execution_count": 19,
     "metadata": {},
     "output_type": "execute_result"
    }
   ],
   "source": [
    "latest_lstm_in"
   ]
  },
  {
   "cell_type": "code",
   "execution_count": 20,
   "metadata": {},
   "outputs": [],
   "source": [
    "# PandasのデータフレームからNumpy配列へ変換\n",
    "def pd_to_np(data_lstm_in):\n",
    "  data_lstm_in = [np.array(data_lstm_input) for data_lstm_input in data_lstm_in]\n",
    "  data_lstm_in = np.array(data_lstm_in)\n",
    "  return data_lstm_in\n",
    "train_lstm_in = pd_to_np(train_lstm_in)\n",
    "latest_lstm_in = pd_to_np(latest_lstm_in)"
   ]
  },
  {
   "cell_type": "code",
   "execution_count": 21,
   "metadata": {},
   "outputs": [
    {
     "name": "stderr",
     "output_type": "stream",
     "text": [
      "Using TensorFlow backend.\n"
     ]
    }
   ],
   "source": [
    "# Kerasの使用するコンポーネントをインポートしましょう\n",
    "from keras.models import Sequential\n",
    "from keras.layers import Activation, Dense\n",
    "from keras.layers import LSTM\n",
    "from keras.layers import Dropout"
   ]
  },
  {
   "cell_type": "code",
   "execution_count": 22,
   "metadata": {},
   "outputs": [],
   "source": [
    "# LSTMのモデルを設定\n",
    "def build_model(inputs, output_size, neurons, activ_func=\"linear\",\n",
    "                dropout=0.25, loss=\"mae\", optimizer=\"adam\"):\n",
    "    model = Sequential()\n",
    " \n",
    "    model.add(LSTM(neurons, input_shape=(inputs.shape[1], inputs.shape[2])))\n",
    "    model.add(Dropout(dropout))\n",
    "    model.add(Dense(units=output_size))\n",
    "    model.add(Activation(activ_func))\n",
    " \n",
    "    model.compile(loss=loss, optimizer=optimizer)\n",
    "    return model"
   ]
  },
  {
   "cell_type": "code",
   "execution_count": 24,
   "metadata": {
    "scrolled": true
   },
   "outputs": [
    {
     "name": "stdout",
     "output_type": "stream",
     "text": [
      "Epoch 1/50\n",
      " - 3s - loss: 0.0125\n",
      "Epoch 2/50\n",
      " - 2s - loss: 0.0070\n",
      "Epoch 3/50\n",
      " - 2s - loss: 0.0059\n",
      "Epoch 4/50\n",
      " - 2s - loss: 0.0053\n",
      "Epoch 5/50\n",
      " - 2s - loss: 0.0053\n",
      "Epoch 6/50\n",
      " - 2s - loss: 0.0050\n",
      "Epoch 7/50\n",
      " - 2s - loss: 0.0048\n",
      "Epoch 8/50\n",
      " - 2s - loss: 0.0046\n",
      "Epoch 9/50\n",
      " - 2s - loss: 0.0047\n",
      "Epoch 10/50\n",
      " - 2s - loss: 0.0047\n",
      "Epoch 11/50\n",
      " - 2s - loss: 0.0043\n",
      "Epoch 12/50\n",
      " - 2s - loss: 0.0045\n",
      "Epoch 13/50\n",
      " - 2s - loss: 0.0046\n",
      "Epoch 14/50\n",
      " - 2s - loss: 0.0043\n",
      "Epoch 15/50\n",
      " - 2s - loss: 0.0043\n",
      "Epoch 16/50\n",
      " - 2s - loss: 0.0044\n",
      "Epoch 17/50\n",
      " - 2s - loss: 0.0043\n",
      "Epoch 18/50\n",
      " - 2s - loss: 0.0044\n",
      "Epoch 19/50\n",
      " - 2s - loss: 0.0043\n",
      "Epoch 20/50\n",
      " - 2s - loss: 0.0045\n",
      "Epoch 21/50\n",
      " - 2s - loss: 0.0044\n",
      "Epoch 22/50\n",
      " - 2s - loss: 0.0044\n",
      "Epoch 23/50\n",
      " - 2s - loss: 0.0043\n",
      "Epoch 24/50\n",
      " - 3s - loss: 0.0042\n",
      "Epoch 25/50\n",
      " - 2s - loss: 0.0044\n",
      "Epoch 26/50\n",
      " - 2s - loss: 0.0042\n",
      "Epoch 27/50\n",
      " - 2s - loss: 0.0042\n",
      "Epoch 28/50\n",
      " - 2s - loss: 0.0041\n",
      "Epoch 29/50\n",
      " - 2s - loss: 0.0043\n",
      "Epoch 30/50\n",
      " - 2s - loss: 0.0043\n",
      "Epoch 31/50\n",
      " - 2s - loss: 0.0043\n",
      "Epoch 32/50\n",
      " - 2s - loss: 0.0042\n",
      "Epoch 33/50\n",
      " - 4s - loss: 0.0042\n",
      "Epoch 34/50\n",
      " - 3s - loss: 0.0040\n",
      "Epoch 35/50\n",
      " - 2s - loss: 0.0042\n",
      "Epoch 36/50\n",
      " - 3s - loss: 0.0043\n",
      "Epoch 37/50\n",
      " - 3s - loss: 0.0043\n",
      "Epoch 38/50\n",
      " - 3s - loss: 0.0041\n",
      "Epoch 39/50\n",
      " - 3s - loss: 0.0041\n",
      "Epoch 40/50\n",
      " - 3s - loss: 0.0041\n",
      "Epoch 41/50\n",
      " - 2s - loss: 0.0041\n",
      "Epoch 42/50\n",
      " - 2s - loss: 0.0041\n",
      "Epoch 43/50\n",
      " - 3s - loss: 0.0043\n",
      "Epoch 44/50\n",
      " - 3s - loss: 0.0041\n",
      "Epoch 45/50\n",
      " - 3s - loss: 0.0043\n",
      "Epoch 46/50\n",
      " - 2s - loss: 0.0040\n",
      "Epoch 47/50\n",
      " - 3s - loss: 0.0040\n",
      "Epoch 48/50\n",
      " - 2s - loss: 0.0039\n",
      "Epoch 49/50\n",
      " - 2s - loss: 0.0041\n",
      "Epoch 50/50\n",
      " - 2s - loss: 0.0041\n"
     ]
    }
   ],
   "source": [
    "# ランダムシードの設定\n",
    "np.random.seed(205)\n",
    " \n",
    "# 初期モデルの構築\n",
    "yen_model = build_model(train_lstm_in, output_size=1, neurons = 20)\n",
    " \n",
    "# データを流してフィッティングさせましょう\n",
    "yen_history = yen_model.fit(train_lstm_in, lstm_train_out, \n",
    "                            epochs=50, batch_size=1, verbose=2, shuffle=True)"
   ]
  },
  {
   "cell_type": "code",
   "execution_count": 25,
   "metadata": {},
   "outputs": [
    {
     "data": {
      "image/png": "[encoded data removed]",
      "text/plain": [
       "<Figure size 432x288 with 1 Axes>"
      ]
     },
     "metadata": {
      "needs_background": "light"
     },
     "output_type": "display_data"
    }
   ],
   "source": [
    "# MAEをプロットしてみよう\n",
    "fig, ax1 = plt.subplots(1,1)\n",
    " \n",
    "ax1.plot(yen_history.epoch, yen_history.history['loss'])\n",
    "ax1.set_title('TrainingError')\n",
    " \n",
    "if yen_model.loss == 'mae':\n",
    "    ax1.set_ylabel('Mean Absolute Error (MAE)',fontsize=12)\n",
    "else:\n",
    "    ax1.set_ylabel('Model Loss',fontsize=12)\n",
    "ax1.set_xlabel('# Epochs',fontsize=12)\n",
    "plt.show()"
   ]
  },
  {
   "cell_type": "code",
   "execution_count": 26,
   "metadata": {},
   "outputs": [
    {
     "name": "stdout",
     "output_type": "stream",
     "text": [
      "<class 'pandas.core.frame.DataFrame'>\n",
      "Int64Index: 698 entries, 19 to 716\n",
      "Data columns (total 7 columns):\n",
      "Date     698 non-null datetime64[ns]\n",
      "Open     698 non-null float64\n",
      "High     698 non-null float64\n",
      "Low      698 non-null float64\n",
      "Close    698 non-null float64\n",
      "SMA20    698 non-null float64\n",
      "RSI      698 non-null float64\n",
      "dtypes: datetime64[ns](1), float64(6)\n",
      "memory usage: 43.6 KB\n"
     ]
    }
   ],
   "source": [
    "df.info()"
   ]
  },
  {
   "cell_type": "code",
   "execution_count": 27,
   "metadata": {},
   "outputs": [
    {
     "data": {
      "text/plain": [
       "29    2017-02-14\n",
       "30    2017-02-15\n",
       "31    2017-02-16\n",
       "32    2017-02-17\n",
       "33    2017-02-20\n",
       "         ...    \n",
       "702   2019-09-20\n",
       "703   2019-09-23\n",
       "704   2019-09-24\n",
       "705   2019-09-25\n",
       "706   2019-09-26\n",
       "Name: Date, Length: 678, dtype: datetime64[ns]"
      ]
     },
     "execution_count": 27,
     "metadata": {},
     "output_type": "execute_result"
    }
   ],
   "source": [
    "df[df['Date']< split_date]['Date'][window_len:]"
   ]
  },
  {
   "cell_type": "code",
   "execution_count": 28,
   "metadata": {
    "scrolled": false
   },
   "outputs": [
    {
     "name": "stderr",
     "output_type": "stream",
     "text": [
      "C:\\Users\\ISP_61860\\Anaconda3\\envs\\py36\\lib\\site-packages\\pandas\\plotting\\_matplotlib\\converter.py:103: FutureWarning: Using an implicitly registered datetime converter for a matplotlib plotting method. The converter was registered by pandas on import. Future versions of pandas will require you to explicitly register matplotlib converters.\n",
      "\n",
      "To register the converters:\n",
      "\t>>> from pandas.plotting import register_matplotlib_converters\n",
      "\t>>> register_matplotlib_converters()\n",
      "  warnings.warn(msg, FutureWarning)\n"
     ]
    },
    {
     "data": {
      "image/png": "[encoded data removed]",
      "text/plain": [
       "<Figure size 432x288 with 1 Axes>"
      ]
     },
     "metadata": {
      "needs_background": "light"
     },
     "output_type": "display_data"
    }
   ],
   "source": [
    "# 訓練データから予測をして正解レートと予測したレートをプロット\n",
    "fig, ax1 = plt.subplots(1,1)\n",
    "ax1.plot(df[df['Date']< split_date]['Date'][window_len:],\n",
    "         train['Close'][window_len:], label='Actual', color='blue')\n",
    "ax1.plot(df[df['Date']< split_date]['Date'][window_len:],\n",
    "         ((np.transpose(yen_model.predict(train_lstm_in))+1) * train['Close'].values[:-window_len])[0], \n",
    "         label='Predicted', color='red')\n",
    "ax1.grid(True)"
   ]
  },
  {
   "cell_type": "code",
   "execution_count": 29,
   "metadata": {},
   "outputs": [
    {
     "name": "stderr",
     "output_type": "stream",
     "text": [
      "C:\\Users\\ISP_61860\\Anaconda3\\envs\\py36\\lib\\site-packages\\ipykernel_launcher.py:18: FutureWarning: Sorting because non-concatenation axis is not aligned. A future version\n",
      "of pandas will change to not sort by default.\n",
      "\n",
      "To accept the future behavior, pass 'sort=False'.\n",
      "\n",
      "To retain the current behavior and silence the warning, pass 'sort=True'.\n",
      "\n"
     ]
    }
   ],
   "source": [
    "#予測値\n",
    "empty = []\n",
    "future_array = np.array(empty)\n",
    "# 10回分予測する\n",
    "length = 10\n",
    "# 予測する長さ分繰り返す\n",
    "for i in range(length):\n",
    "  # 正規化された値で予測されるので値を戻す\n",
    "  pred = (((np.transpose(yen_model.predict(latest_lstm_in))+1) * latest['Close'].values[0])[0])[0]\n",
    "  # 予測した値を格納\n",
    "  future_array= np.append(future_array,pred)\n",
    "  ## 以下は予測結果をLSTMの型に変換するための処理、予測した結果を繋げて次を予測する\n",
    "  # 予測した値をcloseに設定\n",
    "  data ={'Close':[pred]}\n",
    "  # データフレームに変換\n",
    "  df1 = pd.DataFrame(data)\n",
    "  # latastに予測値を設定\n",
    "  latest =pd.concat([latest,df1],axis=0)\n",
    "  # インデックスを設定する（0から並べ直す）\n",
    "  latest.index = range(0,window_len+1)\n",
    "  # 最初の値を削除する\n",
    "  latest = latest.drop(0,axis=0)\n",
    "  # numpyに変換（必要？）\n",
    "  latest_lstm_in =pd_to_np(latest_lstm_in)"
   ]
  },
  {
   "cell_type": "code",
   "execution_count": 30,
   "metadata": {},
   "outputs": [
    {
     "name": "stdout",
     "output_type": "stream",
     "text": [
      "[107.56391907 107.68248749 107.36664581 106.77183533 106.48190308\n",
      " 106.45500183 106.84257507 106.67917633 107.07173157 107.47225189]\n"
     ]
    }
   ],
   "source": [
    "print(future_array)"
   ]
  },
  {
   "cell_type": "code",
   "execution_count": 31,
   "metadata": {},
   "outputs": [],
   "source": [
    "test= df[df['Date']>=split_date]"
   ]
  },
  {
   "cell_type": "code",
   "execution_count": 36,
   "metadata": {},
   "outputs": [
    {
     "data": {
      "text/html": [
       "<div>\n",
       "<style scoped>\n",
       "    .dataframe tbody tr th:only-of-type {\n",
       "        vertical-align: middle;\n",
       "    }\n",
       "\n",
       "    .dataframe tbody tr th {\n",
       "        vertical-align: top;\n",
       "    }\n",
       "\n",
       "    .dataframe thead th {\n",
       "        text-align: right;\n",
       "    }\n",
       "</style>\n",
       "<table border=\"1\" class=\"dataframe\">\n",
       "  <thead>\n",
       "    <tr style=\"text-align: right;\">\n",
       "      <th></th>\n",
       "      <th>Date</th>\n",
       "      <th>Open</th>\n",
       "      <th>High</th>\n",
       "      <th>Low</th>\n",
       "      <th>Close</th>\n",
       "      <th>SMA20</th>\n",
       "      <th>RSI</th>\n",
       "    </tr>\n",
       "  </thead>\n",
       "  <tbody>\n",
       "    <tr>\n",
       "      <td>707</td>\n",
       "      <td>2019-09-27</td>\n",
       "      <td>107.838</td>\n",
       "      <td>108.181</td>\n",
       "      <td>107.659</td>\n",
       "      <td>107.960</td>\n",
       "      <td>107.47885</td>\n",
       "      <td>57.272176</td>\n",
       "    </tr>\n",
       "    <tr>\n",
       "      <td>708</td>\n",
       "      <td>2019-09-30</td>\n",
       "      <td>107.987</td>\n",
       "      <td>108.179</td>\n",
       "      <td>107.746</td>\n",
       "      <td>108.079</td>\n",
       "      <td>107.57305</td>\n",
       "      <td>58.540443</td>\n",
       "    </tr>\n",
       "    <tr>\n",
       "      <td>709</td>\n",
       "      <td>2019-10-01</td>\n",
       "      <td>108.079</td>\n",
       "      <td>108.464</td>\n",
       "      <td>107.629</td>\n",
       "      <td>107.762</td>\n",
       "      <td>107.66440</td>\n",
       "      <td>53.946746</td>\n",
       "    </tr>\n",
       "    <tr>\n",
       "      <td>710</td>\n",
       "      <td>2019-10-02</td>\n",
       "      <td>107.763</td>\n",
       "      <td>107.893</td>\n",
       "      <td>107.058</td>\n",
       "      <td>107.165</td>\n",
       "      <td>107.70430</td>\n",
       "      <td>46.539926</td>\n",
       "    </tr>\n",
       "    <tr>\n",
       "      <td>711</td>\n",
       "      <td>2019-10-03</td>\n",
       "      <td>107.160</td>\n",
       "      <td>107.299</td>\n",
       "      <td>106.503</td>\n",
       "      <td>106.874</td>\n",
       "      <td>107.70025</td>\n",
       "      <td>43.411173</td>\n",
       "    </tr>\n",
       "    <tr>\n",
       "      <td>712</td>\n",
       "      <td>2019-10-04</td>\n",
       "      <td>106.878</td>\n",
       "      <td>107.126</td>\n",
       "      <td>106.585</td>\n",
       "      <td>106.847</td>\n",
       "      <td>107.69615</td>\n",
       "      <td>43.121508</td>\n",
       "    </tr>\n",
       "    <tr>\n",
       "      <td>713</td>\n",
       "      <td>2019-10-07</td>\n",
       "      <td>106.676</td>\n",
       "      <td>107.457</td>\n",
       "      <td>106.676</td>\n",
       "      <td>107.236</td>\n",
       "      <td>107.69555</td>\n",
       "      <td>48.457661</td>\n",
       "    </tr>\n",
       "    <tr>\n",
       "      <td>714</td>\n",
       "      <td>2019-10-08</td>\n",
       "      <td>107.234</td>\n",
       "      <td>107.441</td>\n",
       "      <td>106.815</td>\n",
       "      <td>107.072</td>\n",
       "      <td>107.67315</td>\n",
       "      <td>46.477931</td>\n",
       "    </tr>\n",
       "    <tr>\n",
       "      <td>715</td>\n",
       "      <td>2019-10-09</td>\n",
       "      <td>107.073</td>\n",
       "      <td>107.626</td>\n",
       "      <td>106.935</td>\n",
       "      <td>107.466</td>\n",
       "      <td>107.65565</td>\n",
       "      <td>51.594461</td>\n",
       "    </tr>\n",
       "    <tr>\n",
       "      <td>716</td>\n",
       "      <td>2019-10-10</td>\n",
       "      <td>107.463</td>\n",
       "      <td>108.016</td>\n",
       "      <td>107.038</td>\n",
       "      <td>107.868</td>\n",
       "      <td>107.64460</td>\n",
       "      <td>56.195692</td>\n",
       "    </tr>\n",
       "  </tbody>\n",
       "</table>\n",
       "</div>"
      ],
      "text/plain": [
       "          Date     Open     High      Low    Close      SMA20        RSI\n",
       "707 2019-09-27  107.838  108.181  107.659  107.960  107.47885  57.272176\n",
       "708 2019-09-30  107.987  108.179  107.746  108.079  107.57305  58.540443\n",
       "709 2019-10-01  108.079  108.464  107.629  107.762  107.66440  53.946746\n",
       "710 2019-10-02  107.763  107.893  107.058  107.165  107.70430  46.539926\n",
       "711 2019-10-03  107.160  107.299  106.503  106.874  107.70025  43.411173\n",
       "712 2019-10-04  106.878  107.126  106.585  106.847  107.69615  43.121508\n",
       "713 2019-10-07  106.676  107.457  106.676  107.236  107.69555  48.457661\n",
       "714 2019-10-08  107.234  107.441  106.815  107.072  107.67315  46.477931\n",
       "715 2019-10-09  107.073  107.626  106.935  107.466  107.65565  51.594461\n",
       "716 2019-10-10  107.463  108.016  107.038  107.868  107.64460  56.195692"
      ]
     },
     "execution_count": 36,
     "metadata": {},
     "output_type": "execute_result"
    }
   ],
   "source": [
    "test"
   ]
  },
  {
   "cell_type": "code",
   "execution_count": 33,
   "metadata": {},
   "outputs": [
    {
     "data": {
      "image/png": "[encoded data removed]",
      "text/plain": [
       "<Figure size 432x288 with 1 Axes>"
      ]
     },
     "metadata": {
      "needs_background": "light"
     },
     "output_type": "display_data"
    }
   ],
   "source": [
    "fig, ax1 = plt.subplots(1,1)\n",
    "plt.plot(test.index,\n",
    "        test['Close'], label='Actual', color='blue')\n",
    "ax1.grid(True)"
   ]
  },
  {
   "cell_type": "code",
   "execution_count": 34,
   "metadata": {},
   "outputs": [
    {
     "data": {
      "image/png": "[encoded data removed]",
      "text/plain": [
       "<Figure size 432x288 with 1 Axes>"
      ]
     },
     "metadata": {
      "needs_background": "light"
     },
     "output_type": "display_data"
    }
   ],
   "source": [
    "# 今後の予想の動き\n",
    "fig, ax1 = plt.subplots(1,1)\n",
    "ax1.plot(latest.index,\n",
    "         future_array, label='Actual', color='blue')\n",
    "ax1.grid(True)"
   ]
  },
  {
   "cell_type": "code",
   "execution_count": 35,
   "metadata": {},
   "outputs": [
    {
     "data": {
      "text/plain": [
       "1     107.563919\n",
       "2     107.682487\n",
       "3     107.366646\n",
       "4     106.771835\n",
       "5     106.481903\n",
       "6     106.455002\n",
       "7     106.842575\n",
       "8     106.679176\n",
       "9     107.071732\n",
       "10    107.472252\n",
       "Name: Close, dtype: float64"
      ]
     },
     "execution_count": 35,
     "metadata": {},
     "output_type": "execute_result"
    }
   ],
   "source": [
    "latest['Close']"
   ]
  },
  {
   "cell_type": "code",
   "execution_count": null,
   "metadata": {},
   "outputs": [],
   "source": []
  }
 ],
 "metadata": {
  "kernelspec": {
   "display_name": "Python 3",
   "language": "python",
   "name": "python3"
  },
  "language_info": {
   "codemirror_mode": {
    "name": "ipython",
    "version": 3
   },
   "file_extension": ".py",
   "mimetype": "text/x-python",
   "name": "python",
   "nbconvert_exporter": "python",
   "pygments_lexer": "ipython3",
   "version": "3.6.6"
  }
 },
 "nbformat": 4,
 "nbformat_minor": 2
}
